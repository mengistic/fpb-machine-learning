{
 "cells": [
  {
   "cell_type": "markdown",
   "id": "0eba03c4-706a-49f4-b019-0d3a57f21ae5",
   "metadata": {},
   "source": [
    "# Week 2\n",
    "\n",
    "---\n",
    "\n",
    "**Problem 1**. សរសេរអនុគន៍ដែល ទទួល list L ណាមួយហើយ ផ្តល់ចម្លើយជា list ដែលមានផ្ទុកតែធាតុវិជ្ជមានឬសូន្យនៃ L ប៉ុណ្ណោះ ។ ធាតុនៃ L សុទ្ធតែអវិជ្ជមាននោះ លទ្ធផលគួរតែជា list ទទេ។\n",
    "\n",
    "---"
   ]
  },
  {
   "cell_type": "code",
   "execution_count": 9,
   "id": "d9ada787-4ad4-4201-be58-66d1d1933000",
   "metadata": {},
   "outputs": [],
   "source": [
    "def positive(L: list):\n",
    "    newList = []\n",
    "    for i in range(0,len(L)):\n",
    "        if L[i]>=0: \n",
    "            newList.append(L[i])\n",
    "            \n",
    "    return newList\n",
    " "
   ]
  },
  {
   "cell_type": "code",
   "execution_count": 10,
   "id": "47a2dd81-dfcb-45eb-939c-55c62a6f3d8e",
   "metadata": {},
   "outputs": [
    {
     "data": {
      "text/plain": [
       "[5]"
      ]
     },
     "execution_count": 10,
     "metadata": {},
     "output_type": "execute_result"
    }
   ],
   "source": [
    "positive([-1,-2,5])"
   ]
  },
  {
   "cell_type": "markdown",
   "id": "189f5818-bad5-4ed7-9389-00a14f3fca30",
   "metadata": {},
   "source": [
    "---\n",
    "\n",
    "**Problem 2**. សរសេរអនុគមន៍ដែល ទទួលយកចំនួនគត់វិជ្ជមាន n ហើយផ្តល់ list នៃ n តួរដំបូងនៃស្វុីត Fibonacci ។\n",
    "\n",
    "---"
   ]
  },
  {
   "cell_type": "code",
   "execution_count": 11,
   "id": "4b3f47f4-d6da-408f-9a89-b90697364fdd",
   "metadata": {},
   "outputs": [],
   "source": [
    "def fibonacci(n: int):\n",
    "    if n==0: return [1]\n",
    "    if n==1: return [1,1]\n",
    "\n",
    "    L = [1,1]\n",
    "    k = 2\n",
    "    while k<n:\n",
    "        L.append(L[k-1]+L[k-2])\n",
    "        k += 1\n",
    "\n",
    "    return L\n"
   ]
  },
  {
   "cell_type": "code",
   "execution_count": null,
   "id": "7d0120d8-f0ba-48e2-a26c-5c79dd05ee78",
   "metadata": {},
   "outputs": [],
   "source": []
  },
  {
   "cell_type": "markdown",
   "id": "299d0185-b72d-4599-ba41-039daf8c6759",
   "metadata": {},
   "source": [
    "---\n",
    "\n",
    "**Problem 3.** សរសេរអនុគមន៍ដែលទទួលយក list L មានប្រវែងជាចំនួនសេស។ ធាតុនៃ L ត្រូវតែមានគូលើកលែងតែធាតុមួយប៉ុណ្ណោះដែលគ្មានគូ ។ អនុគមន៍របស់យើងត្រូវ ផ្តល់ទីតាំង (index) ធាតុដែលគ្មានគូនោះ។\n",
    "\n",
    "---\n",
    "\n",
    "So, the list `L` could be something like `L=[3,6,2,2,10,3,6]` and our function returns the index of the number 10, which is 4. First of, let's write a function that could generate such lists. We call this function `genOddList(n)`, which has length $2n+1$.\n"
   ]
  },
  {
   "cell_type": "code",
   "execution_count": 4,
   "id": "935c0084-b081-41a8-b1e7-18c362642dcb",
   "metadata": {},
   "outputs": [],
   "source": [
    "import random\n",
    "\n",
    "def genOddList(n: int):\n",
    "\n",
    "    oddList = random.sample(range(1,99), k=n+1)\n",
    "    for i in range(0,n): oddList.append(oddList[i])\n",
    "    random.shuffle(oddList)\n",
    "\n",
    "    return oddList\n"
   ]
  },
  {
   "cell_type": "markdown",
   "id": "7d0e0e52-cdfe-4b59-a9ea-5430e17fabf6",
   "metadata": {},
   "source": [
    "Now that we have a method to generate such lists, let's work on the problem itself. Here's the way I approach it:\n",
    "\n",
    "- define the function `findSingle(L, start=0)`, and we need to use it recursively to find the index of *single* element.\n",
    "- Base conditions: I dunno what to explain.\n",
    "- "
   ]
  },
  {
   "cell_type": "code",
   "execution_count": 5,
   "id": "6f16ae23-44e0-4715-8cd5-8e1aef1fd5a7",
   "metadata": {},
   "outputs": [],
   "source": [
    "def findSingle(L, start=0):\n",
    "    if start==len(L): return start\n",
    "\n",
    "    for i in range(0,len(L)):\n",
    "        if (start!=i) and (L[start]==L[i]): return findSingle(L, start+1)\n",
    "\n",
    "    return start\n"
   ]
  },
  {
   "cell_type": "markdown",
   "id": "58af5106-b325-4ba7-88f4-2b2d38fa8cb6",
   "metadata": {},
   "source": [
    "Let's test our code together."
   ]
  },
  {
   "cell_type": "code",
   "execution_count": 14,
   "id": "87cb2913-8e89-4df9-89f3-0ccbd4755e6e",
   "metadata": {},
   "outputs": [
    {
     "name": "stdout",
     "output_type": "stream",
     "text": [
      "[8, 8, 65, 5, 47, 47, 65, 95, 5]\n"
     ]
    },
    {
     "data": {
      "text/plain": [
       "7"
      ]
     },
     "execution_count": 14,
     "metadata": {},
     "output_type": "execute_result"
    }
   ],
   "source": [
    "L = genOddList(4)\n",
    "print(L)\n",
    "\n",
    "findSingle(L)"
   ]
  }
 ],
 "metadata": {
  "kernelspec": {
   "display_name": "Python 3 (ipykernel)",
   "language": "python",
   "name": "python3"
  },
  "language_info": {
   "codemirror_mode": {
    "name": "ipython",
    "version": 3
   },
   "file_extension": ".py",
   "mimetype": "text/x-python",
   "name": "python",
   "nbconvert_exporter": "python",
   "pygments_lexer": "ipython3",
   "version": "3.11.5"
  }
 },
 "nbformat": 4,
 "nbformat_minor": 5
}
